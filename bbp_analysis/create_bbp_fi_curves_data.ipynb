{
 "cells": [
  {
   "cell_type": "markdown",
   "metadata": {},
   "source": [
    "# Creating the BBP fi curve datasets"
   ]
  },
  {
   "cell_type": "markdown",
   "metadata": {},
   "source": [
    "### Load modules"
   ]
  },
  {
   "cell_type": "code",
   "execution_count": 2,
   "metadata": {
    "collapsed": false
   },
   "outputs": [],
   "source": [
    "import os\n",
    "import numpy as np\n",
    "import pickle\n",
    "\n",
    "import bluebrain_data_io as bbp_io\n",
    "\n",
    "result_path = './results/lif_fits/'"
   ]
  },
  {
   "cell_type": "markdown",
   "metadata": {},
   "source": [
    "### Load experiments"
   ]
  },
  {
   "cell_type": "code",
   "execution_count": 3,
   "metadata": {
    "collapsed": true
   },
   "outputs": [],
   "source": [
    "vip_expms = bbp_io.get_vip_expms(merged=False, verbose=False)\n",
    "som_expms = bbp_io.get_som_expms(merged=False, verbose=False)\n",
    "pv_expms = bbp_io.get_pv_expms(merged=False, verbose=False)"
   ]
  },
  {
   "cell_type": "code",
   "execution_count": 4,
   "metadata": {
    "collapsed": true
   },
   "outputs": [],
   "source": [
    "def get_fi_curves(expms, threshold=0.0, by='spike_count', initial_cut=300):\n",
    "    i_values = {}\n",
    "    f_values = {}\n",
    "    params = {}\n",
    "    cell_names = []\n",
    "    \n",
    "    for expm in expms:\n",
    "        expm.detectSpikes_cython(threshold=threshold, verbose=False)\n",
    "        i_values[expm.name], f_values[expm.name] = expm.compute_fi_curve(by=by, initial_cut=initial_cut)\n",
    "        cell_names.append(expm.name)\n",
    "    \n",
    "    cell_type = expm.cell_type\n",
    "    params['threshold [mV]'] = threshold\n",
    "    params['fi_computation_method'] = by\n",
    "    params['initial_cutoff_segment[ms]'] = initial_cut\n",
    "    \n",
    "    return {'current_amplitudes':i_values, 'firing_rates':f_values, 'cell_names':cell_names,\n",
    "            'cell_type':cell_type, 'parameters':params}"
   ]
  },
  {
   "cell_type": "code",
   "execution_count": 5,
   "metadata": {
    "collapsed": true
   },
   "outputs": [],
   "source": [
    "def save_fi_data(expm_set):\n",
    "    fi_data = get_fi_curves(expm_set, threshold=-10.0, by='mean_isi')\n",
    "    result_path = './results/lif_fits/'\n",
    "    with open(result_path+'fi_curve_data_' + fi_data['cell_type'] + '.pkl', 'wb') as f:\n",
    "        pickle.dump(fi_data, f, protocol=2)"
   ]
  },
  {
   "cell_type": "code",
   "execution_count": 6,
   "metadata": {
    "collapsed": true
   },
   "outputs": [],
   "source": [
    "save_fi_data(vip_expms)\n",
    "save_fi_data(som_expms)\n",
    "save_fi_data(pv_expms)"
   ]
  },
  {
   "cell_type": "markdown",
   "metadata": {},
   "source": [
    "## Use these methods to load the data"
   ]
  },
  {
   "cell_type": "code",
   "execution_count": 8,
   "metadata": {
    "collapsed": false
   },
   "outputs": [
    {
     "data": {
      "text/plain": [
       "\"\\nloaded_data = load_fi_data('vip')\\nplot_all_fi_curves(loaded_data)\\nplot_single_cell_fi_curve(loaded_data, 'Cell_A87_single_traces')\\nshow_all_cell_names(loaded_data)\\nshow_parameters(loaded_data)\\n\""
      ]
     },
     "execution_count": 8,
     "metadata": {},
     "output_type": "execute_result"
    }
   ],
   "source": [
    "def load_fi_data(cell_type):\n",
    "    with open(result_path+'fi_curve_data_' + cell_type + '.pkl','rb') as f:\n",
    "        loaded_data = pickle.load(f)\n",
    "    return loaded_data\n",
    "\n",
    "def plot_all_fi_curves(fi_curve_data):\n",
    "    i_values = fi_curve_data['current_amplitudes']\n",
    "    f_values = fi_curve_data['firing_rates']\n",
    "    cell_names = fi_curve_data['cell_names']\n",
    "    plt.figure()\n",
    "    for cell in cell_names:\n",
    "        if not len(i_values[cell]) == 0:\n",
    "            plt.plot(i_values[cell], f_values[cell], '.-', ms=12, label=cell)\n",
    "    plt.legend(loc='upper left', bbox_to_anchor=(1.1, 1), ncol=1)\n",
    "    plt.xlabel('Input current [pA]')\n",
    "    plt.ylabel('Firing rate [Hz]')\n",
    "    plt.title(fi_curve_data['cell_type'])\n",
    "    plt.show()\n",
    "    \n",
    "def plot_single_cell_fi_curve(fi_curve_data, cell_name):\n",
    "    i_values = fi_curve_data['current_amplitudes']\n",
    "    f_values = fi_curve_data['firing_rates']\n",
    "    cell_names = fi_curve_data['cell_names']\n",
    "    plt.figure()\n",
    "    if not len(i_values[cell_name]) == 0:\n",
    "        plt.plot(i_values[cell_name], f_values[cell_name], '.-', ms=12, label=cell_name)\n",
    "    plt.legend(loc='upper left', bbox_to_anchor=(1.1, 1), ncol=1)\n",
    "    plt.xlabel('Input current [pA]')\n",
    "    plt.ylabel('Firing rate [Hz]')\n",
    "    plt.title(fi_curve_data['cell_type'])\n",
    "    plt.show()\n",
    "    \n",
    "def show_all_cell_names(fi_curve_data):\n",
    "    for cell in fi_curve_data['cell_names']:\n",
    "        print(cell)\n",
    "        \n",
    "def show_parameters(fi_curve_data):\n",
    "    print(fi_curve_data['parameters'])\n",
    "        \n",
    "# Example usage\n",
    "'''\n",
    "loaded_data = load_fi_data('vip')\n",
    "plot_all_fi_curves(loaded_data)\n",
    "plot_single_cell_fi_curve(loaded_data, 'Cell_A87_single_traces')\n",
    "show_all_cell_names(loaded_data)\n",
    "show_parameters(loaded_data)\n",
    "'''"
   ]
  }
 ],
 "metadata": {
  "anaconda-cloud": {},
  "kernelspec": {
   "display_name": "Python [conda root]",
   "language": "python",
   "name": "conda-root-py"
  },
  "language_info": {
   "codemirror_mode": {
    "name": "ipython",
    "version": 3
   },
   "file_extension": ".py",
   "mimetype": "text/x-python",
   "name": "python",
   "nbconvert_exporter": "python",
   "pygments_lexer": "ipython3",
   "version": "3.6.0"
  }
 },
 "nbformat": 4,
 "nbformat_minor": 1
}
